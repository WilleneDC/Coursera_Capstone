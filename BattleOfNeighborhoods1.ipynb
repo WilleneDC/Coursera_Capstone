{
 "cells": [
  {
   "cell_type": "markdown",
   "metadata": {},
   "source": [
    "# Battle of the Neighborhoods"
   ]
  },
  {
   "cell_type": "markdown",
   "metadata": {},
   "source": [
    "### Introduction"
   ]
  },
  {
   "cell_type": "markdown",
   "metadata": {},
   "source": [
    "This year, Business Insider named the Raleigh- Durham- Chapel Hill area in North Carolina as one of the Top 10 places in the United States to live in (1). This is mainly geared towards young professionals because this area has low housing costs, a booming jobs market, and growing microbrewery and dining scene."
   ]
  },
  {
   "cell_type": "markdown",
   "metadata": {},
   "source": [
    "### Business Problem"
   ]
  },
  {
   "cell_type": "markdown",
   "metadata": {},
   "source": [
    "While the Raleigh- Durham- Chapel Hill area is a quickly growing area, it is also very spread out with a lot of suburbs that have a lot to offer. Given how large the area is, it is hard to figure where exactly one should live and be close enough to schools, restaurants, stores, etc., while still paying reasonable prices for homes. This project is meant to point out which neighborhoods within this area are growing the quickest and where one should live based on proximity amenities and facilities."
   ]
  },
  {
   "cell_type": "markdown",
   "metadata": {},
   "source": [
    "### Data Set"
   ]
  },
  {
   "cell_type": "markdown",
   "metadata": {},
   "source": [
    "For this project we are going to use the Zillow Home Value Index (ZHVI) dataset for Zip Codes. This dataset contains information for all the Zip Codes in the country but we are only going to look at the Raleigh- Durham- Chapel Hill Metro Area.\n",
    "The dataset comprises of the following columns:\n",
    "1. RegionID\n",
    "2. RegionName (Zip Code)\n",
    "3. State\n",
    "4. Metro\n",
    "5. County\n",
    "6. City\n",
    "7. Size Rank\n",
    "8. ZHVI (Seasonally Adjusted Median Home Value)\n",
    "9. MoM (Growth Rate)\n",
    "10. QoQ (Growth Rate)\n",
    "11. YoY (Growth Rate)\n",
    "12. 5 Year (Growth Rate)\n",
    "13. 10 Year (Growth Rate)\n",
    "14. PeakMonth \n",
    "15. PeakQuarter\n",
    "16. PeakZHVI\n",
    "17. PctFallFromPeak\n",
    "18. LastTimeAtCurrZHVI\n",
    "We aren't going to use all of these columns and we'll explore that further in the dataset clean up section.\n",
    "\n",
    "To explore location recommendations across a variety of venues, we will use the location data available through the FourSquare API. We will then arrange the data in the form of a dataframe for further exploration. This dataframe will be merged with the ZHVI data to analyze and ma"
   ]
  },
  {
   "cell_type": "markdown",
   "metadata": {},
   "source": [
    "### Citations"
   ]
  },
  {
   "cell_type": "markdown",
   "metadata": {},
   "source": [
    "1. https://www.businessinsider.com/us-news-best-places-to-live-in-america-2016-3"
   ]
  },
  {
   "cell_type": "code",
   "execution_count": null,
   "metadata": {},
   "outputs": [],
   "source": []
  }
 ],
 "metadata": {
  "kernelspec": {
   "display_name": "Python",
   "language": "python",
   "name": "conda-env-python-py"
  },
  "language_info": {
   "codemirror_mode": {
    "name": "ipython",
    "version": 3
   },
   "file_extension": ".py",
   "mimetype": "text/x-python",
   "name": "python",
   "nbconvert_exporter": "python",
   "pygments_lexer": "ipython3",
   "version": "3.6.7"
  }
 },
 "nbformat": 4,
 "nbformat_minor": 4
}
